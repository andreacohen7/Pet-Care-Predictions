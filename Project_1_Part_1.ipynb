{
  "nbformat": 4,
  "nbformat_minor": 0,
  "metadata": {
    "colab": {
      "provenance": [],
      "collapsed_sections": [],
      "authorship_tag": "ABX9TyMaFXWadLZq8za9h93laOol",
      "include_colab_link": true
    },
    "kernelspec": {
      "name": "python3",
      "display_name": "Python 3"
    },
    "language_info": {
      "name": "python"
    }
  },
  "cells": [
    {
      "cell_type": "markdown",
      "metadata": {
        "id": "view-in-github",
        "colab_type": "text"
      },
      "source": [
        "<a href=\"https://colab.research.google.com/github/andreacohen7/Pet-Care-Predictions/blob/main/Project_1_Part_1.ipynb\" target=\"_parent\"><img src=\"https://colab.research.google.com/assets/colab-badge.svg\" alt=\"Open In Colab\"/></a>"
      ]
    },
    {
      "cell_type": "code",
      "execution_count": null,
      "metadata": {
        "id": "cERhXTnz7z67"
      },
      "outputs": [],
      "source": []
    },
    {
      "cell_type": "markdown",
      "source": [
        "# Food Sales Predictions\n",
        "Andrea Cohen "
      ],
      "metadata": {
        "id": "Sf8E1iCx71kU"
      }
    },
    {
      "cell_type": "markdown",
      "source": [
        "## Loading Data"
      ],
      "metadata": {
        "id": "ZhXXNyF78an_"
      }
    },
    {
      "cell_type": "code",
      "source": [],
      "metadata": {
        "id": "QFAfsqD88dlR"
      },
      "execution_count": null,
      "outputs": []
    },
    {
      "cell_type": "markdown",
      "source": [
        "## Data Cleaning"
      ],
      "metadata": {
        "id": "YF6gOsEY8eht"
      }
    },
    {
      "cell_type": "code",
      "source": [],
      "metadata": {
        "id": "BVhjJIXt8iOa"
      },
      "execution_count": null,
      "outputs": []
    },
    {
      "cell_type": "markdown",
      "source": [
        "## Exploratory Visuals"
      ],
      "metadata": {
        "id": "1-qZmKGA8irP"
      }
    },
    {
      "cell_type": "code",
      "source": [],
      "metadata": {
        "id": "94hc-_BX8lWq"
      },
      "execution_count": null,
      "outputs": []
    },
    {
      "cell_type": "markdown",
      "source": [
        "## Explanatory Visuals"
      ],
      "metadata": {
        "id": "uh27WifQ8lly"
      }
    },
    {
      "cell_type": "code",
      "source": [],
      "metadata": {
        "id": "vH6x8Xnp8oOj"
      },
      "execution_count": null,
      "outputs": []
    }
  ]
}